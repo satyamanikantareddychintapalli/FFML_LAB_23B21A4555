{
  "cells": [
    {
      "cell_type": "markdown",
      "metadata": {
        "id": "view-in-github",
        "colab_type": "text"
      },
      "source": [
        "<a href=\"https://colab.research.google.com/github/satyamanikantareddychintapalli/FFML_LAB_23B21A4555/blob/main/FMML_M1L2.ipynb\" target=\"_parent\"><img src=\"https://colab.research.google.com/assets/colab-badge.svg\" alt=\"Open In Colab\"/></a>"
      ]
    },
    {
      "cell_type": "markdown",
      "metadata": {
        "id": "3Eu9VZbF01eq"
      },
      "source": [
        "# Machine Learning terms and metrics\n",
        "\n",
        "FMML Module 1, Lab 2\n",
        "\n",
        "In this lab, we will show a part of the ML pipeline by using the California Housing dataset. There are 20640 samples, each with 8 attributes like income of the block, age of the houses per district etc. The task is to predict the cost of the houses per district. We will use the scikit-learn library to load the data and perform some basic data preprocessing and model training. We will also show how to evaluate the model using some common metrics, split the data into training and testing sets, and use cross-validation to get a better estimate of the model's performance."
      ]
    },
    {
      "cell_type": "code",
      "execution_count": null,
      "metadata": {
        "id": "8qBvyEem0vLi"
      },
      "outputs": [],
      "source": [
        "import numpy as np\n",
        "from sklearn import datasets\n",
        "import matplotlib.pyplot as plt\n",
        "\n",
        "rng = np.random.default_rng(seed=42)"
      ]
    },
    {
      "cell_type": "code",
      "execution_count": null,
      "metadata": {
        "colab": {
          "base_uri": "https://localhost:8080/"
        },
        "id": "8LpqjN991GGJ",
        "outputId": "6f379d6f-dc2c-427a-93f7-587d7b909a5a"
      },
      "outputs": [
        {
          "output_type": "stream",
          "name": "stdout",
          "text": [
            ".. _california_housing_dataset:\n",
            "\n",
            "California Housing dataset\n",
            "--------------------------\n",
            "\n",
            "**Data Set Characteristics:**\n",
            "\n",
            "    :Number of Instances: 20640\n",
            "\n",
            "    :Number of Attributes: 8 numeric, predictive attributes and the target\n",
            "\n",
            "    :Attribute Information:\n",
            "        - MedInc        median income in block group\n",
            "        - HouseAge      median house age in block group\n",
            "        - AveRooms      average number of rooms per household\n",
            "        - AveBedrms     average number of bedrooms per household\n",
            "        - Population    block group population\n",
            "        - AveOccup      average number of household members\n",
            "        - Latitude      block group latitude\n",
            "        - Longitude     block group longitude\n",
            "\n",
            "    :Missing Attribute Values: None\n",
            "\n",
            "This dataset was obtained from the StatLib repository.\n",
            "https://www.dcc.fc.up.pt/~ltorgo/Regression/cal_housing.html\n",
            "\n",
            "The target variable is the median house value for California districts,\n",
            "expressed in hundreds of thousands of dollars ($100,000).\n",
            "\n",
            "This dataset was derived from the 1990 U.S. census, using one row per census\n",
            "block group. A block group is the smallest geographical unit for which the U.S.\n",
            "Census Bureau publishes sample data (a block group typically has a population\n",
            "of 600 to 3,000 people).\n",
            "\n",
            "A household is a group of people residing within a home. Since the average\n",
            "number of rooms and bedrooms in this dataset are provided per household, these\n",
            "columns may take surprisingly large values for block groups with few households\n",
            "and many empty houses, such as vacation resorts.\n",
            "\n",
            "It can be downloaded/loaded using the\n",
            ":func:`sklearn.datasets.fetch_california_housing` function.\n",
            "\n",
            ".. topic:: References\n",
            "\n",
            "    - Pace, R. Kelley and Ronald Barry, Sparse Spatial Autoregressions,\n",
            "      Statistics and Probability Letters, 33 (1997) 291-297\n",
            "\n"
          ]
        }
      ],
      "source": [
        "dataset = datasets.fetch_california_housing()\n",
        "# Dataset description\n",
        "print(dataset.DESCR)"
      ]
    },
    {
      "cell_type": "markdown",
      "metadata": {
        "id": "PCe1VNftevgE"
      },
      "source": [
        "Given below are the list of target values. These correspond to the house value derived considering all the 8 input features and are continuous values. We should use regression models to predict these values but we will start with a simple classification model for the sake of simplicity. We need to just round off the values to the nearest integer and use a classification model to predict the house value."
      ]
    },
    {
      "cell_type": "code",
      "execution_count": null,
      "metadata": {
        "colab": {
          "base_uri": "https://localhost:8080/"
        },
        "id": "F8K0ggBOevgE",
        "outputId": "f71dd070-d8a0-41e1-b595-107fec9f47e8"
      },
      "outputs": [
        {
          "output_type": "stream",
          "name": "stdout",
          "text": [
            "Orignal target values: [4.526 3.585 3.521 ... 0.923 0.847 0.894]\n",
            "Target values after conversion: [4 3 3 ... 0 0 0]\n",
            "Input variables shape: (20640, 8)\n",
            "Output variables shape: (20640,)\n"
          ]
        }
      ],
      "source": [
        "print(\"Orignal target values:\", dataset.target)\n",
        "\n",
        "dataset.target = dataset.target.astype(int)\n",
        "\n",
        "print(\"Target values after conversion:\", dataset.target)\n",
        "print(\"Input variables shape:\", dataset.data.shape)\n",
        "print(\"Output variables shape:\", dataset.target.shape)"
      ]
    },
    {
      "cell_type": "markdown",
      "metadata": {
        "id": "iNx4174W5xRg"
      },
      "source": [
        "The simplest model to use for classification is the K-Nearest Neighbors model. We will use this model to predict the house value with a K value of 1. We will also use the accuracy metric to evaluate the model."
      ]
    },
    {
      "cell_type": "code",
      "execution_count": null,
      "metadata": {
        "id": "07zpydQj1hIQ"
      },
      "outputs": [],
      "source": [
        "def NN1(traindata, trainlabel, query):\n",
        "    \"\"\"\n",
        "    This function takes in the training data, training labels and a query point\n",
        "    and returns the predicted label for the query point using the nearest neighbour algorithm\n",
        "\n",
        "    traindata: numpy array of shape (n,d) where n is the number of samples and d is the number of features\n",
        "    trainlabel: numpy array of shape (n,) where n is the number of samples\n",
        "    query: numpy array of shape (d,) where d is the number of features\n",
        "\n",
        "    returns: the predicted label for the query point which is the label of the training data which is closest to the query point\n",
        "    \"\"\"\n",
        "    diff = (\n",
        "        traindata - query\n",
        "    )  # find the difference between features. Numpy automatically takes care of the size here\n",
        "    sq = diff * diff  # square the differences\n",
        "    dist = sq.sum(1)  # add up the squares\n",
        "    label = trainlabel[np.argmin(dist)]\n",
        "    return label\n",
        "\n",
        "\n",
        "def NN(traindata, trainlabel, testdata):\n",
        "    \"\"\"\n",
        "    This function takes in the training data, training labels and test data\n",
        "    and returns the predicted labels for the test data using the nearest neighbour algorithm\n",
        "\n",
        "    traindata: numpy array of shape (n,d) where n is the number of samples and d is the number of features\n",
        "    trainlabel: numpy array of shape (n,) where n is the number of samples\n",
        "    testdata: numpy array of shape (m,d) where m is the number of test samples and d is the number of features\n",
        "\n",
        "    returns: the predicted labels for the test data which is the label of the training data which is closest to each test point\n",
        "    \"\"\"\n",
        "    predlabel = np.array([NN1(traindata, trainlabel, i) for i in testdata])\n",
        "    return predlabel"
      ]
    },
    {
      "cell_type": "markdown",
      "metadata": {
        "id": "03JktkfIGaje"
      },
      "source": [
        "We will also define a 'random classifier', which randomly allots labels to each sample"
      ]
    },
    {
      "cell_type": "code",
      "execution_count": null,
      "metadata": {
        "id": "fogWAtjyGhAH"
      },
      "outputs": [],
      "source": [
        "def RandomClassifier(traindata, trainlabel, testdata):\n",
        "    \"\"\"\n",
        "    This function takes in the training data, training labels and test data\n",
        "    and returns the predicted labels for the test data using the random classifier algorithm\n",
        "\n",
        "    In reality, we don't need these arguments but we are passing them to keep the function signature consistent with other classifiers\n",
        "\n",
        "    traindata: numpy array of shape (n,d) where n is the number of samples and d is the number of features\n",
        "    trainlabel: numpy array of shape (n,) where n is the number of samples\n",
        "    testdata: numpy array of shape (m,d) where m is the number of test samples and d is the number of features\n",
        "\n",
        "    returns: the predicted labels for the test data which is a random label from the training data\n",
        "    \"\"\"\n",
        "\n",
        "    classes = np.unique(trainlabel)\n",
        "    rints = rng.integers(low=0, high=len(classes), size=len(testdata))\n",
        "    predlabel = classes[rints]\n",
        "    return predlabel"
      ]
    },
    {
      "cell_type": "markdown",
      "metadata": {
        "id": "1Hjf1KHs7fU5"
      },
      "source": [
        "We need a metric to evaluate the performance of the model. Let us define a metric 'Accuracy' to see how good our learning algorithm is. Accuracy is the ratio of the number of correctly classified samples to the total number of samples. The higher the accuracy, the better the algorithm. We will use the accuracy metric to evaluate and compate the performance of the K-Nearest Neighbors model and the random classifier."
      ]
    },
    {
      "cell_type": "code",
      "execution_count": null,
      "metadata": {
        "id": "ouuCqWU07bz-"
      },
      "outputs": [],
      "source": [
        "def Accuracy(gtlabel, predlabel):\n",
        "    \"\"\"\n",
        "    This function takes in the ground-truth labels and predicted labels\n",
        "    and returns the accuracy of the classifier\n",
        "\n",
        "    gtlabel: numpy array of shape (n,) where n is the number of samples\n",
        "    predlabel: numpy array of shape (n,) where n is the number of samples\n",
        "\n",
        "    returns: the accuracy of the classifier which is the number of correct predictions divided by the total number of predictions\n",
        "    \"\"\"\n",
        "    assert len(gtlabel) == len(\n",
        "        predlabel\n",
        "    ), \"Length of the ground-truth labels and predicted labels should be the same\"\n",
        "    correct = (\n",
        "        gtlabel == predlabel\n",
        "    ).sum()  # count the number of times the groundtruth label is equal to the predicted label.\n",
        "    return correct / len(gtlabel)"
      ]
    },
    {
      "cell_type": "markdown",
      "metadata": {
        "id": "4vJFwBFa9Klw"
      },
      "source": [
        "Let us make a function to split the dataset with the desired probability. We will use this function to split the dataset into training and testing sets. We will use the training set to train the model and the testing set to evaluate the model."
      ]
    },
    {
      "cell_type": "code",
      "execution_count": null,
      "metadata": {
        "id": "Ko0VzpSM2Tdi"
      },
      "outputs": [],
      "source": [
        "def split(data, label, percent):\n",
        "    # generate a random number for each sample\n",
        "    rnd = rng.random(len(label))\n",
        "    split1 = rnd < percent\n",
        "    split2 = rnd >= percent\n",
        "\n",
        "    split1data = data[split1, :]\n",
        "    split1label = label[split1]\n",
        "    split2data = data[split2, :]\n",
        "    split2label = label[split2]\n",
        "    return split1data, split1label, split2data, split2label"
      ]
    },
    {
      "cell_type": "markdown",
      "metadata": {
        "id": "AcK3LEAJ_LGC"
      },
      "source": [
        "We will reserve 20% of our dataset as the test set. We will not change this portion throughout our experiments"
      ]
    },
    {
      "cell_type": "code",
      "execution_count": null,
      "metadata": {
        "colab": {
          "base_uri": "https://localhost:8080/"
        },
        "id": "bBZkHBLJ1iU-",
        "outputId": "73ffc0bd-354d-4051-f17a-c6adebdd58fe"
      },
      "outputs": [
        {
          "output_type": "stream",
          "name": "stdout",
          "text": [
            "Number of test samples: 4144\n",
            "Number of train samples: 16496\n",
            "Percent of test data: 20.07751937984496 %\n"
          ]
        }
      ],
      "source": [
        "testdata, testlabel, alltraindata, alltrainlabel = split(\n",
        "    dataset.data, dataset.target, 20 / 100\n",
        ")\n",
        "print(\"Number of test samples:\", len(testlabel))\n",
        "print(\"Number of train samples:\", len(alltrainlabel))\n",
        "print(\"Percent of test data:\", len(testlabel) * 100 / len(dataset.target), \"%\")"
      ]
    },
    {
      "cell_type": "markdown",
      "metadata": {
        "id": "a6Ss0Z6IAGNV"
      },
      "source": [
        "## Experiments with splits\n",
        "\n",
        "Let us reserve some of our train data as a validation set"
      ]
    },
    {
      "cell_type": "code",
      "execution_count": null,
      "metadata": {
        "id": "WFew2iry_7W7"
      },
      "outputs": [],
      "source": [
        "traindata, trainlabel, valdata, vallabel = split(\n",
        "    alltraindata, alltrainlabel, 75 / 100)"
      ]
    },
    {
      "cell_type": "markdown",
      "metadata": {
        "id": "60hiu4clFN1i"
      },
      "source": [
        "What is the accuracy of our classifiers on the train dataset?"
      ]
    },
    {
      "cell_type": "code",
      "execution_count": null,
      "metadata": {
        "colab": {
          "base_uri": "https://localhost:8080/"
        },
        "id": "DBlZDTHUFTZx",
        "outputId": "2d0ed616-7ece-4d8f-8f8d-cb1eb48f7385"
      },
      "outputs": [
        {
          "output_type": "stream",
          "name": "stdout",
          "text": [
            "Training accuracy using nearest neighbour algorithm: 100.0 %\n",
            "Training accuracy using random classifier:  16.4375808538163 %\n"
          ]
        }
      ],
      "source": [
        "trainpred = NN(traindata, trainlabel, traindata)\n",
        "trainAccuracy = Accuracy(trainlabel, trainpred)\n",
        "print(\"Training accuracy using nearest neighbour algorithm:\", trainAccuracy*100, \"%\")\n",
        "\n",
        "trainpred = RandomClassifier(traindata, trainlabel, traindata)\n",
        "trainAccuracy = Accuracy(trainlabel, trainpred)\n",
        "print(\"Training accuracy using random classifier: \", trainAccuracy*100, \"%\")"
      ]
    },
    {
      "cell_type": "markdown",
      "metadata": {
        "id": "7h08-9gJDtSy"
      },
      "source": [
        "For nearest neighbour, the train accuracy is always 1. The accuracy of the random classifier is close to 1/(number of classes) which is 0.1666 in our case. This is because the random classifier randomly assigns a label to each sample and the probability of assigning the correct label is 1/(number of classes). Let us predict the labels for our validation set and get the accuracy. This accuracy is a good estimate of the accuracy of our model on unseen data."
      ]
    },
    {
      "cell_type": "code",
      "execution_count": null,
      "metadata": {
        "colab": {
          "base_uri": "https://localhost:8080/"
        },
        "id": "4h7bXoW_2H3v",
        "outputId": "ab09a4be-1b0e-4db2-ef67-a4b5f41c48fe"
      },
      "outputs": [
        {
          "output_type": "stream",
          "name": "stdout",
          "text": [
            "Validation accuracy using nearest neighbour algorithm: 34.10852713178294 %\n",
            "Validation accuracy using random classifier: 16.884689922480618 %\n"
          ]
        }
      ],
      "source": [
        "valpred = NN(traindata, trainlabel, valdata)\n",
        "valAccuracy = Accuracy(vallabel, valpred)\n",
        "print(\"Validation accuracy using nearest neighbour algorithm:\", valAccuracy*100, \"%\")\n",
        "\n",
        "\n",
        "valpred = RandomClassifier(traindata, trainlabel, valdata)\n",
        "valAccuracy = Accuracy(vallabel, valpred)\n",
        "print(\"Validation accuracy using random classifier:\", valAccuracy*100, \"%\")"
      ]
    },
    {
      "cell_type": "markdown",
      "metadata": {
        "id": "py9bLguFEjfg"
      },
      "source": [
        "Validation accuracy of nearest neighbour is considerably less than its train accuracy while the validation accuracy of random classifier is the same. However, the validation accuracy of nearest neighbour is twice that of the random classifier. Now let us try another random split and check the validation accuracy. We will see that the validation accuracy changes with the split. This is because the validation set is small and the accuracy is highly dependent on the samples in the validation set. We can get a better estimate of the accuracy by using cross-validation."
      ]
    },
    {
      "cell_type": "code",
      "execution_count": null,
      "metadata": {
        "colab": {
          "base_uri": "https://localhost:8080/"
        },
        "id": "ujm3cyYzEntE",
        "outputId": "8e5506e9-474c-4fd6-d7a6-b14aa1b8b8d1"
      },
      "outputs": [
        {
          "output_type": "stream",
          "name": "stdout",
          "text": [
            "Validation accuracy using nearest neighbour algorithm: 34.048257372654156 %\n"
          ]
        }
      ],
      "source": [
        "traindata, trainlabel, valdata, vallabel = split(\n",
        "    alltraindata, alltrainlabel, 75 / 100)\n",
        "valpred = NN(traindata, trainlabel, valdata)\n",
        "valAccuracy = Accuracy(vallabel, valpred)\n",
        "print(\"Validation accuracy using nearest neighbour algorithm:\", valAccuracy*100, \"%\")"
      ]
    },
    {
      "cell_type": "markdown",
      "metadata": {
        "id": "oSOx7U83EKie"
      },
      "source": [
        "You can run the above cell multiple times to try with different random splits.\n",
        "We notice that the accuracy is different for each run, but close together.\n",
        "\n",
        "Now let us compare it with the accuracy we get on the test dataset."
      ]
    },
    {
      "cell_type": "code",
      "execution_count": null,
      "metadata": {
        "colab": {
          "base_uri": "https://localhost:8080/"
        },
        "id": "PNEZ5ToYBEDW",
        "outputId": "2487fee9-0efc-4ce9-8b76-c8fd90b0c94a"
      },
      "outputs": [
        {
          "output_type": "stream",
          "name": "stdout",
          "text": [
            "Test accuracy: 34.91795366795367 %\n"
          ]
        }
      ],
      "source": [
        "testpred = NN(alltraindata, alltrainlabel, testdata)\n",
        "testAccuracy = Accuracy(testlabel, testpred)\n",
        "\n",
        "print(\"Test accuracy:\", testAccuracy*100, \"%\")"
      ]
    },
    {
      "cell_type": "markdown",
      "metadata": {
        "id": "w3dGD531K3gH"
      },
      "source": [
        "### Try it out for yourself and answer:\n",
        "1. How is the accuracy of the validation set affected if we increase the percentage of validation set? What happens when we reduce it?\n",
        "2. How does the size of the train and validation set affect how well we can predict the accuracy on the test set using the validation set?\n",
        "3. What do you think is a good percentage to reserve for the validation set so that thest two factors are balanced?\n",
        "\n",
        "Answer for both nearest neighbour and random classifier. You can note down the values for your experiments and plot a graph using  <a href=https://matplotlib.org/stable/gallery/lines_bars_and_markers/step_demo.html#sphx-glr-gallery-lines-bars-and-markers-step-demo-py>plt.plot<href>. Check also for extreme values for splits, like 99.9% or 0.1%"
      ]
    },
    {
      "cell_type": "markdown",
      "metadata": {
        "id": "M9zvdYY6evgI"
      },
      "source": [
        "> Exercise: Try to implement a 3 nearest neighbour classifier and compare the accuracy of the 1 nearest neighbour classifier and the 3 nearest neighbour classifier on the test dataset. You can use the KNeighborsClassifier class from the scikit-learn library to implement the K-Nearest Neighbors model. You can set the number of neighbors using the n_neighbors parameter. You can also use the accuracy_score function from the scikit-learn library to calculate the accuracy of the model."
      ]
    },
    {
      "cell_type": "markdown",
      "metadata": {
        "id": "PnYvkAZLQY7h"
      },
      "source": [
        "## Multiple Splits\n",
        "\n",
        "One way to get more accurate estimates for the test accuracy is by using <b>cross-validation</b>. Here, we will try a simple version, where we do multiple train/val splits and take the average of validation accuracies as the test accuracy estimation. Here is a function for doing this. Note that this function will take a long time to execute. You can reduce the number of splits to make it faster."
      ]
    },
    {
      "cell_type": "code",
      "execution_count": null,
      "metadata": {
        "id": "E4nGCUQXBTzo"
      },
      "outputs": [],
      "source": [
        "def AverageAccuracy(alldata, alllabel, splitpercent, iterations, classifier=NN):\n",
        "    \"\"\"\n",
        "    This function takes in the data, labels, split percentage, number of iterations and classifier function\n",
        "    and returns the average accuracy of the classifier\n",
        "\n",
        "    alldata: numpy array of shape (n,d) where n is the number of samples and d is the number of features\n",
        "    alllabel: numpy array of shape (n,) where n is the number of samples\n",
        "    splitpercent: float which is the percentage of data to be used for training\n",
        "    iterations: int which is the number of iterations to run the classifier\n",
        "    classifier: function which is the classifier function to be used\n",
        "\n",
        "    returns: the average accuracy of the classifier\n",
        "    \"\"\"\n",
        "    accuracy = 0\n",
        "    for ii in range(iterations):\n",
        "        traindata, trainlabel, valdata, vallabel = split(\n",
        "            alldata, alllabel, splitpercent\n",
        "        )\n",
        "        valpred = classifier(traindata, trainlabel, valdata)\n",
        "        accuracy += Accuracy(vallabel, valpred)\n",
        "    return accuracy / iterations  # average of all accuracies"
      ]
    },
    {
      "cell_type": "code",
      "execution_count": null,
      "metadata": {
        "colab": {
          "base_uri": "https://localhost:8080/"
        },
        "id": "H3qtNar7Bbik",
        "outputId": "5a5a53ec-beea-4f7f-cefc-79f74cceb1bd"
      },
      "outputs": [
        {
          "output_type": "stream",
          "name": "stdout",
          "text": [
            "Average validation accuracy: 33.58463539517022 %\n",
            "Test accuracy: 34.91795366795367 %\n"
          ]
        }
      ],
      "source": [
        "avg_acc = AverageAccuracy(alltraindata, alltrainlabel, 75 / 100, 10, classifier=NN)\n",
        "print(\"Average validation accuracy:\", avg_acc*100, \"%\")\n",
        "testpred = NN(alltraindata, alltrainlabel, testdata)\n",
        "\n",
        "print(\"Test accuracy:\", Accuracy(testlabel, testpred)*100, \"%\")"
      ]
    },
    {
      "cell_type": "markdown",
      "metadata": {
        "id": "33GIn4x5VH-d"
      },
      "source": [
        "This is a very simple way of doing cross-validation. There are many well-known algorithms for cross-validation, like k-fold cross-validation, leave-one-out etc. This will be covered in detail in a later module. For more information about cross-validation, check <a href=https://en.wikipedia.org/wiki/Cross-validation_(statistics)>Cross-validatioin (Wikipedia)</a>\n",
        "\n",
        "### Questions\n",
        "1. Does averaging the validation accuracy across multiple splits give more consistent results?\n",
        "2. Does it give more accurate estimate of test accuracy?\n",
        "3. What is the effect of the number of iterations on the estimate? Do we get a better estimate with higher iterations?\n",
        "4. Consider the results you got for the previous questions. Can we deal with a very small train dataset or validation dataset by increasing the iterations?\n"
      ]
    },
    {
      "cell_type": "markdown",
      "metadata": {
        "id": "z-SBxy1qevgJ"
      },
      "source": [
        "> Exercise: How does the accuracy of the 3 nearest neighbour classifier change with the number of splits? How is it affected by the split size? Compare the results with the 1 nearest neighbour classifier."
      ]
    },
    {
      "cell_type": "markdown",
      "source": [
        "Yes, averaging the validation accuracy across multiple splits generally provides more consistent and reliable results compared to relying on a single split. This approach, known as cross-validation, helps to mitigate the variability that can occur due to the specific choice of the training and validation sets.\n",
        "\n",
        "### Why Averaging Across Multiple Splits is More Consistent:\n",
        "1. **Reduces Variance**: The accuracy obtained from a single split can be highly dependent on the particular samples that are included in the training and validation sets. By averaging the accuracy across multiple splits, you smooth out the variability that comes from different data distributions in these splits.\n",
        "\n",
        "2. **Better Generalization Estimate**: Each split in cross-validation uses a different subset of data for validation, so averaging the results gives a more reliable estimate of how the model is expected to perform on unseen data. This is particularly useful when the dataset is small, as a single split may not be representative of the entire data distribution.\n",
        "\n",
        "3. **More Robust Evaluation**: Averaging over multiple splits reduces the risk of overestimating or underestimating the model's performance. It provides a more comprehensive evaluation by ensuring that the model's accuracy is not overly influenced by outliers or specific data points that could skew the results in a single split.\n",
        "\n",
        "4. **Cross-Validation**: In more advanced forms of cross-validation, such as k-fold cross-validation, the entire dataset is divided into k subsets, and the model is trained and validated k times, each time using a different subset as the validation set and the remaining k-1 subsets as the training set. The final accuracy is the average of the k results, providing a stable and generalized performance metric.\n",
        "\n",
        "### Example:\n",
        "If you perform 10 different splits and calculate the validation accuracy for each split, the individual accuracies might vary, but the average of these 10 accuracies will give you a more stable estimate. This averaged accuracy is less sensitive to the specific configuration of each individual split.\n",
        "\n",
        "In summary, averaging validation accuracy across multiple splits does indeed give more consistent and reliable results, which is why it's a common practice in machine learning model evaluation.\n",
        "\n"
      ],
      "metadata": {
        "id": "sOzm1nXn2KNC"
      }
    },
    {
      "cell_type": "markdown",
      "source": [
        "Averaging validation accuracy across multiple splits generally provides a more accurate estimate of the test accuracy, but with some caveats. Here's how it works:\n",
        "\n",
        "### How Averaging Validation Accuracy Improves Test Accuracy Estimation:\n",
        "\n",
        "1. **Reduces Overfitting to a Specific Validation Set**: When you rely on a single train-validation split, the model might perform well or poorly on that particular validation set due to random variations in the data. By averaging over multiple splits, you reduce the influence of any particular set of validation data, leading to a more balanced and accurate estimate of how the model will perform on unseen test data.\n",
        "\n",
        "2. **Improves Generalization**: Averaging validation accuracy over multiple splits tends to provide a better approximation of how the model will generalize to completely unseen data (i.e., the test set). This is because the model is evaluated on different subsets of data each time, which helps capture the overall performance across the entire dataset.\n",
        "\n",
        "3. **Mitigates the Impact of Variability**: Single-split validation can lead to high variability in performance metrics if the validation set is not representative of the overall data distribution. Multiple splits, and the subsequent averaging, help smooth out these fluctuations, resulting in an accuracy estimate that is closer to what you would expect on the test set.\n",
        "\n",
        "### Caveats and Considerations:\n",
        "\n",
        "1. **Bias-Variance Tradeoff**: While averaging reduces variance in the accuracy estimate, it doesn’t completely eliminate bias. If your validation sets are not representative of the test set (e.g., if they are drawn from a slightly different distribution), the estimate could still be off.\n",
        "\n",
        "2. **Size of the Dataset**: The accuracy of the estimate also depends on the size of the dataset. If the dataset is very small, even cross-validation may not perfectly represent the test set. However, for most reasonably sized datasets, cross-validation provides a good approximation.\n",
        "\n",
        "3. **Model Complexity**: If your model is very complex and prone to overfitting, even averaging across multiple validation splits might still yield overly optimistic estimates of test accuracy. In such cases, more sophisticated techniques, like nested cross-validation, might be needed.\n",
        "\n",
        "### Conclusion:\n",
        "Averaging validation accuracy across multiple splits typically gives a more accurate and reliable estimate of test accuracy compared to using a single split. This approach helps ensure that your model’s performance metric is closer to what you can expect on unseen data, making it a fundamental practice in machine learning model evaluation. However, the accuracy of the estimate can still be influenced by factors like data representativeness, model complexity, and dataset size.\n"
      ],
      "metadata": {
        "id": "jlWtCYW42d6y"
      }
    },
    {
      "cell_type": "markdown",
      "source": [
        "\n",
        "The number of iterations (i.e., the number of different train-validation splits used in cross-validation) plays a significant role in determining the quality and stability of the estimate of the test accuracy. Here's how the number of iterations affects the estimate:\n",
        "\n",
        "### Effect of Number of Iterations on the Estimate\n",
        "\n",
        "1. **Stability and Consistency**:\n",
        "   - **Higher Iterations**: As the number of iterations increases, the estimate of the test accuracy becomes more stable and consistent. This is because averaging over more iterations reduces the influence of any one particular split, leading to a smoother and more reliable estimate.\n",
        "   - **Lower Iterations**: With fewer iterations, the estimate may be more susceptible to variability. The result might be more influenced by specific splits, leading to a less reliable and potentially more volatile estimate.\n",
        "\n",
        "2. **Convergence of the Estimate**:\n",
        "   - With a higher number of iterations, the estimate of the test accuracy tends to converge to a more accurate value. Essentially, as you increase the number of iterations, you are sampling more variations of the train-validation split, which gives a better approximation of the model's performance across the entire dataset.\n",
        "   - After a certain point, additional iterations contribute less to the accuracy of the estimate, as the results start to converge. This means there’s diminishing returns with very high iterations, but increasing iterations up to this convergence point does generally lead to a better estimate.\n",
        "\n",
        "3. **Reduced Impact of Outliers**:\n",
        "   - Outliers or unusual data points can have a significant impact on accuracy if only a few iterations are used. As the number of iterations increases, the influence of these outliers diminishes, leading to a more robust and accurate estimate.\n",
        "\n",
        "4. **Computational Cost**:\n",
        "   - While more iterations can lead to a better estimate, they also increase the computational cost. This is an important tradeoff to consider, especially for complex models or large datasets. You need to balance the desire for accuracy with the available computational resources and time.\n",
        "\n",
        "### Practical Implications:\n",
        "\n",
        "- **Few Iterations**: If you only perform a small number of iterations (e.g., 3-5), the estimate might be less reliable and could fluctuate depending on the specific splits used.\n",
        "- **Moderate Iterations (e.g., 10-20)**: This range is often sufficient for many practical purposes, offering a good balance between computational cost and the stability of the estimate.\n",
        "- **High Iterations (e.g., 50-100 or more)**: This can lead to very stable and accurate estimates but at a higher computational cost. The improvement in estimate accuracy beyond a certain number of iterations may be marginal.\n",
        "\n",
        "### Conclusion:\n",
        "Increasing the number of iterations generally leads to a more accurate and reliable estimate of test accuracy, as it reduces variability and allows the estimate to converge to a more stable value. However, beyond a certain point, the benefits of additional iterations diminish, and it becomes a tradeoff between computational cost and the desired accuracy of the estimate. For most cases, a moderate number of iterations provides a good balance.\n"
      ],
      "metadata": {
        "id": "M8W16m_R2uLK"
      }
    },
    {
      "cell_type": "markdown",
      "source": [
        "Increasing the number of iterations in cross-validation can help mitigate some issues associated with small training or validation datasets, but it doesn't fully solve the underlying problems. Here’s how it affects small datasets and the associated challenges:\n",
        "\n",
        "### Dealing with a Very Small Training Dataset\n",
        "\n",
        "1. **Challenges**:\n",
        "   - **Underfitting**: A very small training dataset may not provide enough information for the model to learn effectively, leading to underfitting. The model might not capture the underlying patterns in the data, resulting in poor performance on both the training and validation sets.\n",
        "   - **High Variance**: Small training datasets can cause high variance in model performance across different splits, leading to less reliable estimates of accuracy.\n",
        "\n",
        "2. **Effect of Increasing Iterations**:\n",
        "   - **More Reliable Estimate**: By increasing the number of iterations, you can get a more reliable estimate of how well the model performs given the limited data. This is because you’re averaging the model’s performance across many different splits, which can help smooth out the variance.\n",
        "   - **Doesn't Improve Learning**: However, increasing iterations does not fundamentally improve the model’s ability to learn from the small dataset. The model is still constrained by the limited amount of data, which means it might not generalize well to unseen data, regardless of how many splits you use.\n",
        "\n",
        "3. **Potential Solutions**:\n",
        "   - **Data Augmentation**: In some cases, you might use techniques like data augmentation (especially in fields like image processing) to artificially increase the size of the training set.\n",
        "   - **Transfer Learning**: Leveraging pre-trained models or transfer learning can help when the training data is limited, especially in fields like NLP or computer vision.\n",
        "   - **Simpler Models**: Using simpler models that require fewer data to learn effectively might be a better approach when dealing with very small training datasets.\n",
        "\n",
        "### Dealing with a Very Small Validation Dataset\n",
        "\n",
        "1. **Challenges**:\n",
        "   - **High Variability in Validation Accuracy**: With a small validation dataset, the accuracy estimates can vary widely depending on the specific examples included in the validation set. This can lead to unreliable estimates of how well the model will perform on unseen data.\n",
        "\n",
        "2. **Effect of Increasing Iterations**:\n",
        "   - **Reduced Variance in Estimates**: Increasing the number of iterations helps to reduce the variability in validation accuracy. By averaging over many different validation sets, you obtain a more stable and reliable estimate of model performance.\n",
        "   - **Limited Representativeness**: While increasing iterations helps, the fundamental issue remains that a small validation set might not be representative of the broader dataset. The accuracy estimate could still be biased if the validation sets are not capturing the full diversity of the data.\n",
        "\n",
        "3. **Potential Solutions**:\n",
        "   - **Cross-Validation**: Techniques like k-fold cross-validation, where the data is split into k parts and each part is used as a validation set in turn, can help maximize the use of small datasets. This allows every data point to be used for both training and validation, making the most out of limited data.\n",
        "   - **Stratified Sampling**: Ensuring that each validation set is representative of the overall class distribution (in classification tasks) can also improve the reliability of the accuracy estimate.\n",
        "\n",
        "### Conclusion:\n",
        "Increasing the number of iterations in cross-validation helps in obtaining more consistent and reliable estimates of model performance, especially when dealing with small validation datasets. However, it does not fundamentally address the limitations imposed by small training datasets. While it can reduce variance in performance estimates, the effectiveness of the model itself is still limited by the amount of data it has to learn from. To truly improve performance, alternative strategies like data augmentation, transfer learning, or using simpler models may be necessary.\n"
      ],
      "metadata": {
        "id": "MaNEbNpQ3Bwh"
      }
    }
  ],
  "metadata": {
    "colab": {
      "provenance": [],
      "include_colab_link": true
    },
    "kernelspec": {
      "display_name": "Python 3",
      "name": "python3"
    },
    "language_info": {
      "codemirror_mode": {
        "name": "ipython",
        "version": 3
      },
      "file_extension": ".py",
      "mimetype": "text/x-python",
      "name": "python",
      "nbconvert_exporter": "python",
      "pygments_lexer": "ipython3",
      "version": "3.10.10"
    }
  },
  "nbformat": 4,
  "nbformat_minor": 0
}